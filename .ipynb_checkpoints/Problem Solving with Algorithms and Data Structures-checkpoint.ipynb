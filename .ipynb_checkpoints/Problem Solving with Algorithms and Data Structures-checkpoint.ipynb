{
 "cells": [
  {
   "cell_type": "markdown",
   "metadata": {},
   "source": [
    "# 1.12 Infinite Monkey Theorem\n",
    "\n",
    "Here’s a self check that really covers everything so far. You may have heard of the infinite monkey theorem? The theorem states that a monkey hitting keys at random on a typewriter keyboard for an infinite amount of time will almost surely type a given text, such as the complete works of William Shakespeare. Well, suppose we replace a monkey with a Python function. How long do you think it would take for a Python function to generate just one sentence of Shakespeare? The sentence we’ll shoot for is: “methinks it is like a weasel”\n",
    "\n",
    "You’re not going to want to run this one in the browser, so fire up your favorite Python IDE. The way we’ll simulate this is to write a function that generates a string that is 28 characters long by choosing random letters from the 26 letters in the alphabet plus the space. We’ll write another function that will score each generated string by comparing the randomly generated string to the goal.\n",
    "\n",
    "A third function will repeatedly call generate and score, then if 100% of the letters are correct we are done. If the letters are not correct then we will generate a whole new string. To make it easier to follow your program’s progress this third function should print out the best string generated so far and its score every 1,000 tries."
   ]
  },
  {
   "cell_type": "code",
   "execution_count": 1,
   "metadata": {},
   "outputs": [
    {
     "name": "stdout",
     "output_type": "stream",
     "text": [
      "0 \n",
      "5 yxpuiadzubmoih jqmgfaxwduqde\n",
      "5 yxpuiadzubmoih jqmgfaxwduqde\n",
      "5 yxpuiadzubmoih jqmgfaxwduqde\n",
      "5 yxpuiadzubmoih jqmgfaxwduqde\n",
      "5 yxpuiadzubmoih jqmgfaxwduqde\n",
      "6 lprsgikp ifs swlgkdydmktllra\n",
      "8 mebhcghsprlaiq iqxeezxwsctim\n",
      "8 mebhcghsprlaiq iqxeezxwsctim\n",
      "8 mebhcghsprlaiq iqxeezxwsctim\n"
     ]
    }
   ],
   "source": [
    "import string\n",
    "import random\n",
    "\n",
    "alphabet = string.ascii_lowercase + ' '\n",
    "\n",
    "def generate(strlength):\n",
    "    return ''.join(random.choices(alphabet, k = strlength))\n",
    "\n",
    "def score(string, answer):\n",
    "    return sum([1 for i in range(len(string)) if string[i] == answer[i]])\n",
    "\n",
    "def trials(n, answer):\n",
    "    best_score = 0\n",
    "    best_string = ''\n",
    "    for i in range(n):\n",
    "        new_string = generate(len(answer))\n",
    "        new_score = score(new_string, answer)\n",
    "        if new_score > best_score:\n",
    "            best_score = new_score\n",
    "            best_string = new_string\n",
    "        if (i % 1000) == 0:\n",
    "            print(best_score, best_string)\n",
    "            \n",
    "trials(10000, \"methinks it is like a weasel\")"
   ]
  },
  {
   "cell_type": "markdown",
   "metadata": {},
   "source": [
    "See if you can improve upon the program in the self check by keeping letters that are correct and only modifying one character in the best string so far. This is a type of algorithm in the class of ‘hill climbing’ algorithms, that is we only keep the result if it is better than the previous one."
   ]
  },
  {
   "cell_type": "code",
   "execution_count": 2,
   "metadata": {},
   "outputs": [
    {
     "data": {
      "text/plain": [
       "('methinks it is like a weasel', 'methinks it is like a weasel', 874)"
      ]
     },
     "execution_count": 2,
     "metadata": {},
     "output_type": "execute_result"
    }
   ],
   "source": [
    "def better_generate(answer):\n",
    "    string = generate(len(answer))\n",
    "    count = 0\n",
    "    for i in range(len(answer)):\n",
    "        while string[i] != answer[i]:\n",
    "            list_string = list(string)\n",
    "            list_string[i] = generate(1)\n",
    "            string = ''.join(list_string)\n",
    "            count += 1\n",
    "    return string, answer, count\n",
    "\n",
    "better_generate(\"methinks it is like a weasel\")"
   ]
  },
  {
   "cell_type": "markdown",
   "metadata": {},
   "source": [
    "# 1.13 Fractions\n",
    "\n",
    "To make sure you understand how operators are implemented in Python classes, and how to properly write methods, write some methods to implement *, /, and - . Also implement comparison operators > and <"
   ]
  },
  {
   "cell_type": "code",
   "execution_count": 3,
   "metadata": {},
   "outputs": [],
   "source": [
    "def gcd(m,n):\n",
    "    while m%n != 0:\n",
    "        oldm = m\n",
    "        oldn = n\n",
    "\n",
    "        m = oldn\n",
    "        n = oldm%oldn\n",
    "    return n\n",
    "\n",
    "class Fraction:\n",
    "    def __init__(self,top,bottom):\n",
    "        self.num = top\n",
    "        self.den = bottom\n",
    "    \n",
    "    def __str__(self):\n",
    "        return str(self.num) + \"/\" + str(self.den)\n",
    "\n",
    "    def show(self):\n",
    "        print(self.num, \"/\", self.den)\n",
    "        \n",
    "    def getNum(self):\n",
    "        return self.num\n",
    "    \n",
    "    def getDen(self):\n",
    "        return self.den\n",
    "\n",
    "    def __add__(self, other):\n",
    "        newnum = self.num * other.den + self.den * other.num\n",
    "        newden = self.den * other.den\n",
    "        common = gcd(newnum,newden)\n",
    "        return Fraction(newnum // common, newden // common)\n",
    "\n",
    "    def __eq__(self, other):\n",
    "        firstnum = self.num * other.den\n",
    "        secondnum = other.num * self.den\n",
    "        return firstnum == secondnum\n",
    "    \n",
    "    def __mul__(self, other):\n",
    "        newnum = self.num * other.num \n",
    "        newden = self.den * other.den\n",
    "        common = gcd(newnum, newden)\n",
    "        return Fraction(newnum // common, newden // common)\n",
    "    \n",
    "    def __truediv__(self, other):\n",
    "        return Fraction.__mul__(self, Fraction(other.den, other.num))\n",
    "    \n",
    "    def __sub__(self, other):\n",
    "        return Fraction.__add__(self, Fraction(-other.num, other.den))\n",
    "    \n",
    "    def __gt__(self, other):\n",
    "        return Fraction.__sub__(self, other).num > 0\n",
    "    \n",
    "    def __lt__(self, other):\n",
    "        return Fraction.__sub__(self, other).num < 0"
   ]
  },
  {
   "cell_type": "code",
   "execution_count": 4,
   "metadata": {},
   "outputs": [
    {
     "name": "stdout",
     "output_type": "stream",
     "text": [
      "7/6\n",
      "False\n",
      "1/3\n",
      "3/4\n",
      "-1/6\n",
      "False\n",
      "True\n"
     ]
    }
   ],
   "source": [
    "x = Fraction(1,2)\n",
    "y = Fraction(2,3)\n",
    "print(x + y)\n",
    "print(x == y)\n",
    "print(x * y)\n",
    "print(x / y)\n",
    "print(x - y)\n",
    "print(x > y)\n",
    "print(x < y)"
   ]
  },
  {
   "cell_type": "markdown",
   "metadata": {},
   "source": [
    "# 1.13 Logic Gates and Circuits\n",
    "\n",
    "Create a two new gate classes, one called NorGate the other called NandGate. NandGates work like AndGates that have a Not attached to the output. NorGates work lake OrGates that have a Not attached to the output.\n",
    "\n",
    "Create a series of gates that prove the following equality NOT (( A and B) or (C and D)) is that same as NOT( A and B ) and NOT (C and D). Make sure to use some of your new gates in the simulation."
   ]
  },
  {
   "cell_type": "code",
   "execution_count": 5,
   "metadata": {},
   "outputs": [],
   "source": [
    "class LogicGate:\n",
    "\n",
    "    def __init__(self,n):\n",
    "        self.name = n\n",
    "        self.output = None\n",
    "\n",
    "    def getName(self):\n",
    "        return self.name\n",
    "\n",
    "    def getOutput(self):\n",
    "        self.output = self.performGateLogic()\n",
    "        return self.output\n",
    "\n",
    "class BinaryGate(LogicGate):\n",
    "\n",
    "    def __init__(self,n):\n",
    "        LogicGate.__init__(self,n)\n",
    "\n",
    "        self.pinA = None\n",
    "        self.pinB = None\n",
    "\n",
    "    def getPinA(self):\n",
    "        if self.pinA == None:\n",
    "            return int(input(\"Enter Pin A input for gate \"+self.getName()+\"-->\"))\n",
    "        else:\n",
    "            return self.pinA.getFrom().getOutput()\n",
    "\n",
    "    def getPinB(self):\n",
    "        if self.pinB == None:\n",
    "            return int(input(\"Enter Pin B input for gate \"+self.getName()+\"-->\"))\n",
    "        else:\n",
    "            return self.pinB.getFrom().getOutput()\n",
    "\n",
    "    def setNextPin(self,source):\n",
    "        if self.pinA == None:\n",
    "            self.pinA = source\n",
    "        else:\n",
    "            if self.pinB == None:\n",
    "                self.pinB = source\n",
    "            else:\n",
    "                print(\"Cannot Connect: NO EMPTY PINS on this gate\")\n",
    "\n",
    "class AndGate(BinaryGate):\n",
    "\n",
    "    def __init__(self,n):\n",
    "        BinaryGate.__init__(self,n)\n",
    "\n",
    "    def performGateLogic(self):\n",
    "\n",
    "        a = self.getPinA()\n",
    "        b = self.getPinB()\n",
    "        if a==1 and b==1:\n",
    "            return 1\n",
    "        else:\n",
    "            return 0\n",
    "\n",
    "class OrGate(BinaryGate):\n",
    "\n",
    "    def __init__(self,n):\n",
    "        BinaryGate.__init__(self,n)\n",
    "\n",
    "    def performGateLogic(self):\n",
    "\n",
    "        a = self.getPinA()\n",
    "        b = self.getPinB()\n",
    "        if a ==1 or b==1:\n",
    "            return 1\n",
    "        else:\n",
    "            return 0\n",
    "\n",
    "class UnaryGate(LogicGate):\n",
    "\n",
    "    def __init__(self,n):\n",
    "        LogicGate.__init__(self,n)\n",
    "\n",
    "        self.pin = None\n",
    "\n",
    "    def getPin(self):\n",
    "        if self.pin == None:\n",
    "            return int(input(\"Enter Pin input for gate \"+self.getName()+\"-->\"))\n",
    "        else:\n",
    "            return self.pin.getFrom().getOutput()\n",
    "\n",
    "    def setNextPin(self,source):\n",
    "        if self.pin == None:\n",
    "            self.pin = source\n",
    "        else:\n",
    "            print(\"Cannot Connect: NO EMPTY PINS on this gate\")\n",
    "\n",
    "class NotGate(UnaryGate):\n",
    "\n",
    "    def __init__(self,n):\n",
    "        UnaryGate.__init__(self,n)\n",
    "\n",
    "    def performGateLogic(self):\n",
    "        if self.getPin():\n",
    "            return 0\n",
    "        else:\n",
    "            return 1\n",
    "\n",
    "class Connector:\n",
    "\n",
    "    def __init__(self, fgate, tgate):\n",
    "        self.fromgate = fgate\n",
    "        self.togate = tgate\n",
    "\n",
    "        tgate.setNextPin(self)\n",
    "\n",
    "    def getFrom(self):\n",
    "        return self.fromgate\n",
    "\n",
    "    def getTo(self):\n",
    "        return self.togate\n",
    "    \n",
    "class NandGate(BinaryGate):\n",
    "    \n",
    "    def __init__(self,n):\n",
    "        BinaryGate.__init__(self,n)\n",
    "        \n",
    "    def performGateLogic(self):\n",
    "        andgate = AndGate(self.name)\n",
    "        notgate = NotGate(self.name)\n",
    "        Connector(andgate, notgate)\n",
    "        return notgate.performGateLogic()\n",
    "    \n",
    "class NorGate(BinaryGate):\n",
    "    \n",
    "    def __init__(self,n):\n",
    "        BinaryGate.__init__(self,n)\n",
    "        \n",
    "    def performGateLogic(self):\n",
    "        orgate = OrGate(self.name)\n",
    "        notgate = NotGate(self.name)\n",
    "        Connector(orgate, notgate)\n",
    "        return notgate.performGateLogic()\n"
   ]
  },
  {
   "cell_type": "code",
   "execution_count": 6,
   "metadata": {},
   "outputs": [
    {
     "name": "stdout",
     "output_type": "stream",
     "text": [
      "Enter Pin A input for gate G1-->0\n",
      "Enter Pin B input for gate G1-->1\n",
      "Enter Pin A input for gate G2-->1\n",
      "Enter Pin B input for gate G2-->1\n",
      "0\n",
      "Enter Pin A input for gate G1-->0\n",
      "Enter Pin B input for gate G1-->1\n",
      "Enter Pin A input for gate G2-->1\n",
      "Enter Pin B input for gate G2-->1\n",
      "0\n"
     ]
    }
   ],
   "source": [
    "def main():\n",
    "    g1 = AndGate(\"G1\")\n",
    "    g2 = AndGate(\"G2\")\n",
    "    g3 = OrGate(\"G3\")\n",
    "    g4 = NotGate(\"G4\")\n",
    "    c1 = Connector(g1,g3)\n",
    "    c2 = Connector(g2,g3)\n",
    "    c3 = Connector(g3,g4)\n",
    "    print(g4.getOutput())\n",
    "    \n",
    "    g1 = NandGate(\"G1\")\n",
    "    g2 = NandGate(\"G2\")\n",
    "    g3 = AndGate(\"G3\")\n",
    "    c1 = Connector(g1,g3)\n",
    "    c2 = Connector(g2,g3)\n",
    "    print(g3.getOutput())\n",
    "\n",
    "main()"
   ]
  },
  {
   "cell_type": "markdown",
   "metadata": {},
   "source": [
    "# 2.3 Minimum Number in a List\n",
    "\n",
    "Write two Python functions to find the minimum number in a list. The first function should compare each number to every other number on the list `O(n^2)`. The second function should be linear `O(n)`."
   ]
  },
  {
   "cell_type": "code",
   "execution_count": 7,
   "metadata": {},
   "outputs": [],
   "source": [
    "def minimum_n2(seq):\n",
    "    minimum = seq[0]\n",
    "    for s in seq:\n",
    "        for t in seq:\n",
    "            if s <= t:\n",
    "                pass\n",
    "            else:\n",
    "                break\n",
    "            minimum = s\n",
    "    return minimum\n",
    "\n",
    "def minimum_n(seq):\n",
    "    minimum = seq[0]\n",
    "    for s in seq:\n",
    "        if s <= minimum:\n",
    "            minimum = s\n",
    "    return minimum"
   ]
  },
  {
   "cell_type": "code",
   "execution_count": 8,
   "metadata": {},
   "outputs": [
    {
     "name": "stdout",
     "output_type": "stream",
     "text": [
      "-3\n",
      "-3\n"
     ]
    }
   ],
   "source": [
    "x = [1,2,3,4,5,0,12,-1,-2,-3]\n",
    "print(minimum_n2(x))\n",
    "print(minimum_n(x))"
   ]
  },
  {
   "cell_type": "markdown",
   "metadata": {},
   "source": [
    "# 2.11 List Indexing\n",
    "\n",
    "Devise an experiment to verify that the list index operator is `O(1)`."
   ]
  },
  {
   "cell_type": "code",
   "execution_count": 9,
   "metadata": {},
   "outputs": [
    {
     "data": {
      "image/png": "[encoded data removed]",
      "text/plain": [
       "<matplotlib.figure.Figure at 0x1065b9748>"
      ]
     },
     "metadata": {},
     "output_type": "display_data"
    }
   ],
   "source": [
    "import timeit\n",
    "import random\n",
    "import matplotlib.pyplot as plt\n",
    "import numpy as np\n",
    "\n",
    "y = []\n",
    "x = range(10000, 1000001, 20000)\n",
    "for xx in x:\n",
    "    seq = list(range(xx))\n",
    "    t = timeit.Timer(\"seq[random.randrange(%d)]\" %xx, \"from __main__ import random, seq\")\n",
    "    time = t.timeit(number=1000)\n",
    "    y.append(time)\n",
    "\n",
    "plt.scatter(x, y)\n",
    "plt.show()"
   ]
  },
  {
   "cell_type": "markdown",
   "metadata": {},
   "source": [
    "# 3.5 Stacks and String Reversal\n",
    "\n",
    "Write a function `revstring(mystr)` that uses a stack to reverse the characters in a string."
   ]
  },
  {
   "cell_type": "code",
   "execution_count": 10,
   "metadata": {},
   "outputs": [
    {
     "data": {
      "text/plain": [
       "'elppa'"
      ]
     },
     "execution_count": 10,
     "metadata": {},
     "output_type": "execute_result"
    }
   ],
   "source": [
    "class Stack:\n",
    "    def __init__(self):\n",
    "        self.items = []\n",
    "    \n",
    "    def isEmpty(self):\n",
    "        return self.items == []\n",
    "\n",
    "    def push(self, item):\n",
    "        self.items.append(item)\n",
    "\n",
    "    def pop(self):\n",
    "        return self.items.pop()\n",
    "\n",
    "    def peek(self):\n",
    "        return self.items[len(self.items)-1]\n",
    "\n",
    "    def size(self):\n",
    "        return len(self.items)\n",
    "    \n",
    "def revstring(mystr):\n",
    "    m = Stack()\n",
    "    revstr = ''\n",
    "    for s in mystr:\n",
    "        m.push(s)\n",
    "    while not m.isEmpty():\n",
    "        revstr += m.pop()\n",
    "    return revstr\n",
    "\n",
    "revstring('apple')"
   ]
  },
  {
   "cell_type": "markdown",
   "metadata": {},
   "source": [
    "# 3.9 General Infix-to-Postfix Conversion¶\n",
    "\n",
    "Modify the `infixToPostfix` function so that it can convert the following expression: `5 * 3 ** (4 - 2)`. Modify the infix-to-postfix algorithm so that it can handle errors"
   ]
  },
  {
   "cell_type": "code",
   "execution_count": 11,
   "metadata": {},
   "outputs": [
    {
     "name": "stdout",
     "output_type": "stream",
     "text": [
      "A B * C D * +\n",
      "A B + C * D E - F G + * -\n",
      "5 3 4 2 - ** *\n"
     ]
    }
   ],
   "source": [
    "def infixToPostfix(infixexpr):\n",
    "    prec = {}\n",
    "    prec[\"**\"] = 4\n",
    "    prec[\"*\"] = 3\n",
    "    prec[\"/\"] = 3\n",
    "    prec[\"+\"] = 2\n",
    "    prec[\"-\"] = 2\n",
    "    prec[\"(\"] = 1\n",
    "    opStack = Stack()\n",
    "    postfixList = []\n",
    "    tokenList = infixexpr.split()\n",
    "\n",
    "    for token in tokenList:\n",
    "        if token in \"ABCDEFGHIJKLMNOPQRSTUVWXYZ\" or token in \"0123456789\":\n",
    "            postfixList.append(token)\n",
    "        elif token == '(':\n",
    "            opStack.push(token)\n",
    "        elif token == ')':\n",
    "            topToken = opStack.pop()\n",
    "            while topToken != '(':\n",
    "                postfixList.append(topToken)\n",
    "                topToken = opStack.pop()\n",
    "        elif token in prec.keys():\n",
    "            while (not opStack.isEmpty()) and (prec[opStack.peek()] >= prec[token]):\n",
    "                postfixList.append(opStack.pop())\n",
    "            opStack.push(token)\n",
    "        else:\n",
    "            raise ValueError(\"Input contains an invalid token\")\n",
    "\n",
    "    while not opStack.isEmpty():\n",
    "        postfixList.append(opStack.pop())\n",
    "    return \" \".join(postfixList)\n",
    "\n",
    "print(infixToPostfix(\"A * B + C * D\"))\n",
    "print(infixToPostfix(\"( A + B ) * C - ( D - E ) * ( F + G )\"))\n",
    "print(infixToPostfix(\"5 * 3 ** ( 4 - 2 )\"))\n",
    "# print(infixToPostfix(\"5 * 3 *** ( 4 - 2 )\"))"
   ]
  },
  {
   "cell_type": "markdown",
   "metadata": {},
   "source": [
    "# 3.9 Postfix Evaluation\n",
    "\n",
    "Modify the postfix evaluation algorithm so that it can handle errors"
   ]
  },
  {
   "cell_type": "code",
   "execution_count": 12,
   "metadata": {},
   "outputs": [
    {
     "name": "stdout",
     "output_type": "stream",
     "text": [
      "3.0\n"
     ]
    }
   ],
   "source": [
    "def postfixEval(postfixExpr):\n",
    "    operandStack = Stack()\n",
    "    tokenList = postfixExpr.split()\n",
    "\n",
    "    for token in tokenList:\n",
    "        if token in \"0123456789\":\n",
    "            operandStack.push(int(token))\n",
    "        elif token in \"+-/*\":\n",
    "            operand2 = operandStack.pop()\n",
    "            operand1 = operandStack.pop()\n",
    "            result = doMath(token,operand1,operand2)\n",
    "            operandStack.push(result)\n",
    "        else:\n",
    "            raise ValueError(\"Input contains an invalid token\")\n",
    "    return operandStack.pop()\n",
    "\n",
    "def doMath(op, op1, op2):\n",
    "    if op == \"*\":\n",
    "        return op1 * op2\n",
    "    elif op == \"/\":\n",
    "        return op1 / op2\n",
    "    elif op == \"+\":\n",
    "        return op1 + op2\n",
    "    elif op == \"-\":\n",
    "        return op1 - op2\n",
    "    else:\n",
    "        raise ValueError(\"Input contains an invalid operator\")\n",
    "    \n",
    "print(postfixEval('7 8 + 3 2 + /'))\n",
    "# print(postfixEval('7 8 + 3 2 + //'))"
   ]
  },
  {
   "cell_type": "markdown",
   "metadata": {},
   "source": [
    "# 3.11 Queue ADT\n",
    "\n",
    "Implement the Queue ADT, using a list such that the rear of the queue is at the end of the list. Design and implement an experiment to do benchmark comparisons of the two queue implementations. What can you learn from such an experiment?"
   ]
  },
  {
   "cell_type": "code",
   "execution_count": 13,
   "metadata": {},
   "outputs": [
    {
     "data": {
      "image/png": "[encoded data removed]",
      "text/plain": [
       "<matplotlib.figure.Figure at 0x10f76acc0>"
      ]
     },
     "metadata": {},
     "output_type": "display_data"
    }
   ],
   "source": [
    "class Queue:\n",
    "    def __init__(self):\n",
    "        self.items = []\n",
    "\n",
    "    def isEmpty(self):\n",
    "        return self.items == []\n",
    "\n",
    "    def enqueue(self, item):\n",
    "        self.items.insert(0,item)\n",
    "\n",
    "    def dequeue(self):\n",
    "        return self.items.pop()\n",
    "\n",
    "    def size(self):\n",
    "        return len(self.items)\n",
    "\n",
    "class QueueList:\n",
    "    def __init__(self):\n",
    "        self.items = []\n",
    "    \n",
    "    def isEmpty(self):\n",
    "        return self.items == []\n",
    "    \n",
    "    def enqueue(self, item):\n",
    "        self.items.append(item)\n",
    "        \n",
    "    def dequeue(self):\n",
    "        self.items.pop()\n",
    "        \n",
    "    def size(self):\n",
    "        return len(self.items)\n",
    "\n",
    "y1 = []\n",
    "y2 = []\n",
    "x = range(1, 102001, 2000)\n",
    "fastQueue = QueueList()\n",
    "slowQueue = Queue()\n",
    "\n",
    "for experiment in x:\n",
    "    for loop in range(max(0, experiment - 2000), experiment):\n",
    "        fastQueue.enqueue(loop)\n",
    "        slowQueue.enqueue(loop)       \n",
    "    timer1 = timeit.Timer(\"fastQueue.enqueue(random.randrange(%d))\" %experiment, \"from __main__ import random, fastQueue\")\n",
    "    timer2 = timeit.Timer(\"slowQueue.enqueue(random.randrange(%d))\" %experiment, \"from __main__ import random, slowQueue\")\n",
    "    t1 = timer1.timeit(number=1000)\n",
    "    t2 = timer2.timeit(number=1000)\n",
    "    y1.append(t1)\n",
    "    y2.append(t2)\n",
    "\n",
    "plt.scatter(x, y1, label=\"Fast Queue\")\n",
    "plt.scatter(x, y2, label=\"Slow Queue\")\n",
    "plt.legend()\n",
    "plt.show()"
   ]
  },
  {
   "cell_type": "markdown",
   "metadata": {},
   "source": [
    "# 3.14 Printer Queue Simulation\n",
    "\n",
    "How would you modify the printer simulation to reflect a larger number of students? Suppose that the number of students was doubled. You make need to make some reasonable assumptions about how this simulation was put together but what would you change? Modify the code. \n",
    "\n",
    "Also, suppose that the length of the average print task was cut in half. Change the code to reflect that change. Finally, how would you parametertize the number of students? Rather than changing the code we would like to make the number of students a parameter of the simulation."
   ]
  },
  {
   "cell_type": "code",
   "execution_count": 14,
   "metadata": {},
   "outputs": [
    {
     "name": "stdout",
     "output_type": "stream",
     "text": [
      "Average Wait   6.82 secs   0 tasks remaining.\n",
      "Average Wait  22.58 secs   0 tasks remaining.\n",
      "Average Wait  20.05 secs   0 tasks remaining.\n",
      "Average Wait  16.16 secs   1 tasks remaining.\n",
      "Average Wait  10.95 secs   0 tasks remaining.\n",
      "Average Wait  28.00 secs   0 tasks remaining.\n",
      "Average Wait  82.89 secs   0 tasks remaining.\n",
      "Average Wait  21.68 secs   0 tasks remaining.\n",
      "Average Wait  11.75 secs   0 tasks remaining.\n",
      "Average Wait   1.47 secs   0 tasks remaining.\n"
     ]
    }
   ],
   "source": [
    "import random\n",
    "    \n",
    "class Printer:\n",
    "    def __init__(self, ppm):\n",
    "        self.pagerate = ppm\n",
    "        self.currentTask = None\n",
    "        self.timeRemaining = 0\n",
    "\n",
    "    def tick(self):\n",
    "        if self.currentTask != None:\n",
    "            self.timeRemaining = self.timeRemaining - 1\n",
    "            if self.timeRemaining <= 0:\n",
    "                self.currentTask = None\n",
    "\n",
    "    def busy(self):\n",
    "        if self.currentTask != None:\n",
    "            return True\n",
    "        else:\n",
    "            return False\n",
    "\n",
    "    def startNext(self, newtask):\n",
    "        self.currentTask = newtask\n",
    "        self.timeRemaining = newtask.getPages() * 60 / self.pagerate\n",
    "        \n",
    "class Task:\n",
    "    def __init__(self, time, averagePageLength):\n",
    "        self.timestamp = time\n",
    "        self.pages = random.randrange(1, averagePageLength + 1)\n",
    "\n",
    "    def getStamp(self):\n",
    "        return self.timestamp\n",
    "\n",
    "    def getPages(self):\n",
    "        return self.pages\n",
    "\n",
    "    def waitTime(self, currenttime):\n",
    "        return currenttime - self.timestamp\n",
    "    \n",
    "def simulation(numSeconds, pagesPerMinute, students, averagePageLength):\n",
    "\n",
    "    labprinter = Printer(pagesPerMinute)\n",
    "    printQueue = Queue()\n",
    "    waitingtimes = []\n",
    "\n",
    "    for currentSecond in range(numSeconds):\n",
    "        if newPrintTask(students):\n",
    "            task = Task(currentSecond, averagePageLength)\n",
    "            printQueue.enqueue(task)\n",
    "\n",
    "        if (not labprinter.busy()) and (not printQueue.isEmpty()):\n",
    "            nexttask = printQueue.dequeue()\n",
    "            waitingtimes.append(nexttask.waitTime(currentSecond))\n",
    "            labprinter.startNext(nexttask)\n",
    "      \n",
    "        labprinter.tick()\n",
    "\n",
    "    averageWait = sum(waitingtimes) / len(waitingtimes)\n",
    "    print(\"Average Wait %6.2f secs %3d tasks remaining.\"%(averageWait, printQueue.size()))\n",
    "\n",
    "\n",
    "def newPrintTask(students):\n",
    "    tasksPerStudent = 2\n",
    "    secondsPerTask = 3600 / (students * tasksPerStudent)\n",
    "    num = random.randrange(1, 180 + 1)\n",
    "    if num == 180:\n",
    "        return True\n",
    "    else:\n",
    "        return False\n",
    "\n",
    "for i in range(10):\n",
    "    simulation(3600, 5, 10, 10)"
   ]
  },
  {
   "cell_type": "markdown",
   "metadata": {},
   "source": [
    "# 3.17 Deque"
   ]
  },
  {
   "cell_type": "code",
   "execution_count": 15,
   "metadata": {},
   "outputs": [],
   "source": [
    "class Deque:\n",
    "    def __init__(self):\n",
    "        self.items = []\n",
    "\n",
    "    def isEmpty(self):\n",
    "        return self.items == []\n",
    "\n",
    "    def addFront(self, item):\n",
    "        self.items.append(item)\n",
    "\n",
    "    def addRear(self, item):\n",
    "        self.items.insert(0,item)\n",
    "\n",
    "    def removeFront(self):\n",
    "        return self.items.pop()\n",
    "\n",
    "    def removeRear(self):\n",
    "        return self.items.pop(0)\n",
    "\n",
    "    def size(self):\n",
    "        return len(self.items)"
   ]
  },
  {
   "cell_type": "markdown",
   "metadata": {},
   "source": [
    "# 3.21 Implementing an Unordered List: Linked Lists\n",
    "\n",
    "Part I: Implement the append method for UnorderedList. What is the time complexity of the method you created?\n",
    "\n",
    "Part II: In the previous problem, you most likely created an append method that was `O(n)`. If you add an instance variable to the UnorderedList class you can create an append method that is `O(1)`. Modify your append method to be `O(1)`. Be careful! To really do this correctly you will need to consider a couple of special cases that may require you to make a modification to the add method as well."
   ]
  },
  {
   "cell_type": "code",
   "execution_count": 16,
   "metadata": {},
   "outputs": [],
   "source": [
    "class Node:\n",
    "    def __init__(self,initdata):\n",
    "        self.data = initdata\n",
    "        self.next = None\n",
    "\n",
    "    def getData(self):\n",
    "        return self.data\n",
    "\n",
    "    def getNext(self):\n",
    "        return self.next\n",
    "\n",
    "    def setData(self,newdata):\n",
    "        self.data = newdata\n",
    "\n",
    "    def setNext(self,newnext):\n",
    "        self.next = newnext\n",
    "\n",
    "\n",
    "class UnorderedList:\n",
    "\n",
    "    def __init__(self):\n",
    "        self.head = None\n",
    "\n",
    "    def isEmpty(self):\n",
    "        return self.head == None\n",
    "\n",
    "    def add(self,item):\n",
    "        temp = Node(item)\n",
    "        temp.setNext(self.head)\n",
    "        self.head = temp\n",
    "\n",
    "    def size(self):\n",
    "        current = self.head\n",
    "        count = 0\n",
    "        while current != None:\n",
    "            count = count + 1\n",
    "            current = current.getNext()\n",
    "\n",
    "        return count\n",
    "\n",
    "    def search(self,item):\n",
    "        current = self.head\n",
    "        found = False\n",
    "        while current != None and not found:\n",
    "            if current.getData() == item:\n",
    "                found = True\n",
    "            else:\n",
    "                current = current.getNext()\n",
    "\n",
    "        return found\n",
    "\n",
    "    def remove(self,item):\n",
    "        current = self.head\n",
    "        previous = None\n",
    "        found = False\n",
    "        while not found:\n",
    "            if current.getData() == item:\n",
    "                found = True\n",
    "            else:\n",
    "                previous = current\n",
    "                current = current.getNext()\n",
    "\n",
    "        if previous == None:\n",
    "            self.head = current.getNext()\n",
    "        else:\n",
    "            previous.setNext(current.getNext())\n",
    "            \n",
    "    def append(self,item):\n",
    "        current = self.head\n",
    "        stop = False\n",
    "        while not stop:\n",
    "            if current == None or current.getNext() == None:\n",
    "                stop = True\n",
    "            else:\n",
    "                current = current.getNext()\n",
    "        \n",
    "        temp = Node(item)\n",
    "        if current == None:\n",
    "            self.head = temp\n",
    "        else:\n",
    "            current.setNext(temp)"
   ]
  },
  {
   "cell_type": "code",
   "execution_count": 17,
   "metadata": {},
   "outputs": [
    {
     "name": "stdout",
     "output_type": "stream",
     "text": [
      "6\n",
      "True\n",
      "False\n",
      "True\n",
      "7\n",
      "6\n",
      "5\n",
      "4\n",
      "False\n",
      "True\n",
      "1\n",
      "False\n",
      "True\n",
      "2\n",
      "True\n",
      "1\n"
     ]
    }
   ],
   "source": [
    "mylist = UnorderedList()\n",
    "\n",
    "mylist.add(31)\n",
    "mylist.add(77)\n",
    "mylist.add(17)\n",
    "mylist.add(93)\n",
    "mylist.add(26)\n",
    "mylist.add(54)\n",
    "\n",
    "print(mylist.size())\n",
    "print(mylist.search(93))\n",
    "print(mylist.search(100))\n",
    "\n",
    "mylist.add(100)\n",
    "print(mylist.search(100))\n",
    "print(mylist.size())\n",
    "\n",
    "mylist.remove(54)\n",
    "print(mylist.size())\n",
    "mylist.remove(93)\n",
    "print(mylist.size())\n",
    "mylist.remove(31)\n",
    "print(mylist.size())\n",
    "print(mylist.search(93))\n",
    "\n",
    "mylist = UnorderedList()\n",
    "mylist.append(1)\n",
    "mylist.append(2)\n",
    "print(mylist.search(1))\n",
    "print(mylist.head.getData())\n",
    "mylist.remove(1)\n",
    "print(mylist.search(1))\n",
    "print(mylist.search(2))\n",
    "print(mylist.head.getData())\n",
    "mylist.add(1)\n",
    "print(mylist.search(1))\n",
    "print(mylist.head.getData())"
   ]
  },
  {
   "cell_type": "markdown",
   "metadata": {},
   "source": [
    "# 4.5 String Reversal and Palindromes\n",
    "\n",
    "Write a function that takes a string as a parameter and returns a new string that is the reverse of the old string. Write a function that takes a string as a parameter and returns True if the string is a palindrome, False otherwise. Remember that a string is a palindrome if it is spelled the same both forward and backward. For example: radar is a palindrome. for bonus points palindromes can also be phrases, but you need to remove the spaces and punctuation before checking. for example: madam i’m adam is a palindrome."
   ]
  },
  {
   "cell_type": "code",
   "execution_count": 18,
   "metadata": {},
   "outputs": [
    {
     "name": "stdout",
     "output_type": "stream",
     "text": [
      "kayak\n",
      "emordnilap\n",
      "True\n",
      "True\n",
      "True\n"
     ]
    }
   ],
   "source": [
    "import string\n",
    "def stringReversal(string):\n",
    "    return ''.join(list(string)[::-1])\n",
    "\n",
    "print(stringReversal(\"kayak\"))\n",
    "print(stringReversal(\"palindrome\"))\n",
    "\n",
    "def palindrome(sample):\n",
    "    translator = str.maketrans('', '', string.punctuation)\n",
    "    newSample = ''.join([ss for s in sample.translate(translator).split(' ') for ss in list(s)]).lower()\n",
    "    return newSample == stringReversal(newSample)\n",
    "\n",
    "print(palindrome(\"Reviled did I live, said I, as evil I did deliver\"))\n",
    "print(palindrome(\"Able was I ere I saw Elba\"))\n",
    "print(palindrome(\"madam i'm adam\"))"
   ]
  },
  {
   "cell_type": "markdown",
   "metadata": {},
   "source": [
    "# 4.7 Draw Fractal Tree with Turtle\n",
    "\n",
    "Modify the recursive tree program using one or all of the following ideas:\n",
    "\n",
    "* Modify the thickness of the branches so that as the branchLen gets smaller, the line gets thinner.\n",
    "* Modify the color of the branches so that as the branchLen gets very short it is colored like a leaf.\n",
    "* Modify the angle used in turning the turtle so that at each branch point the angle is selected at random in some range. For example choose the angle between 15 and 45 degrees. Play around to see what looks good.\n",
    "* Modify the branchLen recursively so that instead of always subtracting the same amount you subtract a random amount in some range."
   ]
  },
  {
   "cell_type": "code",
   "execution_count": 19,
   "metadata": {},
   "outputs": [],
   "source": [
    "import turtle\n",
    "\n",
    "def tree(branchLen,t):\n",
    "    if branchLen > 5:\n",
    "        t.pensize(branchLen / 5)\n",
    "        t.forward(branchLen)\n",
    "        t.right(20)\n",
    "        tree(branchLen-15,t)\n",
    "        t.left(40)\n",
    "        tree(branchLen-15,t)\n",
    "        t.right(20)\n",
    "        t.backward(branchLen)\n",
    "\n",
    "def main():\n",
    "    t = turtle.Turtle()\n",
    "    myWin = turtle.Screen()\n",
    "    t.left(90)\n",
    "    t.up()\n",
    "    t.backward(100)\n",
    "    t.down()\n",
    "    t.color(\"green\")\n",
    "    tree(75,t)\n",
    "    myWin.exitonclick()\n",
    "\n",
    "main()"
   ]
  },
  {
   "cell_type": "code",
   "execution_count": null,
   "metadata": {},
   "outputs": [],
   "source": []
  }
 ],
 "metadata": {
  "kernelspec": {
   "display_name": "Python 3",
   "language": "python",
   "name": "python3"
  },
  "language_info": {
   "codemirror_mode": {
    "name": "ipython",
    "version": 3
   },
   "file_extension": ".py",
   "mimetype": "text/x-python",
   "name": "python",
   "nbconvert_exporter": "python",
   "pygments_lexer": "ipython3",
   "version": "3.6.3"
  }
 },
 "nbformat": 4,
 "nbformat_minor": 2
}
