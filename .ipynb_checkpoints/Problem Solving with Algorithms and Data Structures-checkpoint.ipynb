{
 "cells": [
  {
   "cell_type": "markdown",
   "metadata": {},
   "source": [
    "# Infinite Monkey Theorem\n",
    "\n",
    "Here’s a self check that really covers everything so far. You may have heard of the infinite monkey theorem? The theorem states that a monkey hitting keys at random on a typewriter keyboard for an infinite amount of time will almost surely type a given text, such as the complete works of William Shakespeare. Well, suppose we replace a monkey with a Python function. How long do you think it would take for a Python function to generate just one sentence of Shakespeare? The sentence we’ll shoot for is: “methinks it is like a weasel”\n",
    "\n",
    "You’re not going to want to run this one in the browser, so fire up your favorite Python IDE. The way we’ll simulate this is to write a function that generates a string that is 28 characters long by choosing random letters from the 26 letters in the alphabet plus the space. We’ll write another function that will score each generated string by comparing the randomly generated string to the goal.\n",
    "\n",
    "A third function will repeatedly call generate and score, then if 100% of the letters are correct we are done. If the letters are not correct then we will generate a whole new string. To make it easier to follow your program’s progress this third function should print out the best string generated so far and its score every 1,000 tries."
   ]
  },
  {
   "cell_type": "code",
   "execution_count": 1,
   "metadata": {},
   "outputs": [
    {
     "name": "stdout",
     "output_type": "stream",
     "text": [
      "1 ewsbsookrqjyrldhvfndxnlqaepn\n",
      "5 gkggepyy ufoil ukkezevsqrfgk\n",
      "6 xedminhijqwgufegy ebaubiehll\n",
      "6 xedminhijqwgufegy ebaubiehll\n",
      "6 xedminhijqwgufegy ebaubiehll\n",
      "6 xedminhijqwgufegy ebaubiehll\n",
      "6 xedminhijqwgufegy ebaubiehll\n",
      "6 xedminhijqwgufegy ebaubiehll\n",
      "6 xedminhijqwgufegy ebaubiehll\n",
      "6 xedminhijqwgufegy ebaubiehll\n"
     ]
    }
   ],
   "source": [
    "import string\n",
    "import random\n",
    "\n",
    "alphabet = string.ascii_lowercase + ' '\n",
    "\n",
    "def generate(strlength):\n",
    "    return ''.join(random.choices(alphabet, k = strlength))\n",
    "\n",
    "def score(string, answer):\n",
    "    return sum([1 for i in range(len(string)) if string[i] == answer[i]])\n",
    "\n",
    "def trials(n, answer):\n",
    "    best_score = 0\n",
    "    best_string = ''\n",
    "    for i in range(n):\n",
    "        new_string = generate(len(answer))\n",
    "        new_score = score(new_string, answer)\n",
    "        if new_score > best_score:\n",
    "            best_score = new_score\n",
    "            best_string = new_string\n",
    "        if (i % 1000) == 0:\n",
    "            print(best_score, best_string)\n",
    "            \n",
    "trials(10000, \"methinks it is like a weasel\")"
   ]
  },
  {
   "cell_type": "markdown",
   "metadata": {},
   "source": [
    "See if you can improve upon the program in the self check by keeping letters that are correct and only modifying one character in the best string so far. This is a type of algorithm in the class of ‘hill climbing’ algorithms, that is we only keep the result if it is better than the previous one."
   ]
  },
  {
   "cell_type": "code",
   "execution_count": 2,
   "metadata": {},
   "outputs": [
    {
     "data": {
      "text/plain": [
       "('methinks it is like a weasel', 'methinks it is like a weasel', 672)"
      ]
     },
     "execution_count": 2,
     "metadata": {},
     "output_type": "execute_result"
    }
   ],
   "source": [
    "def better_generate(answer):\n",
    "    string = generate(len(answer))\n",
    "    count = 0\n",
    "    for i in range(len(answer)):\n",
    "        while string[i] != answer[i]:\n",
    "            list_string = list(string)\n",
    "            list_string[i] = generate(1)\n",
    "            string = ''.join(list_string)\n",
    "            count += 1\n",
    "    return string, answer, count\n",
    "\n",
    "better_generate(\"methinks it is like a weasel\")"
   ]
  },
  {
   "cell_type": "markdown",
   "metadata": {},
   "source": [
    "# Fractions\n",
    "\n",
    "To make sure you understand how operators are implemented in Python classes, and how to properly write methods, write some methods to implement *, /, and - . Also implement comparison operators > and <"
   ]
  },
  {
   "cell_type": "code",
   "execution_count": 3,
   "metadata": {},
   "outputs": [],
   "source": [
    "def gcd(m,n):\n",
    "    while m%n != 0:\n",
    "        oldm = m\n",
    "        oldn = n\n",
    "\n",
    "        m = oldn\n",
    "        n = oldm%oldn\n",
    "    return n\n",
    "\n",
    "class Fraction:\n",
    "    def __init__(self,top,bottom):\n",
    "        self.num = top\n",
    "        self.den = bottom\n",
    "    \n",
    "    def __str__(self):\n",
    "        return str(self.num) + \"/\" + str(self.den)\n",
    "\n",
    "    def show(self):\n",
    "        print(self.num, \"/\", self.den)\n",
    "        \n",
    "    def getNum(self):\n",
    "        return self.num\n",
    "    \n",
    "    def getDen(self):\n",
    "        return self.den\n",
    "\n",
    "    def __add__(self, other):\n",
    "        newnum = self.num * other.den + self.den * other.num\n",
    "        newden = self.den * other.den\n",
    "        common = gcd(newnum,newden)\n",
    "        return Fraction(newnum // common, newden // common)\n",
    "\n",
    "    def __eq__(self, other):\n",
    "        firstnum = self.num * other.den\n",
    "        secondnum = other.num * self.den\n",
    "        return firstnum == secondnum\n",
    "    \n",
    "    def __mul__(self, other):\n",
    "        newnum = self.num * other.num \n",
    "        newden = self.den * other.den\n",
    "        common = gcd(newnum, newden)\n",
    "        return Fraction(newnum // common, newden // common)\n",
    "    \n",
    "    def __truediv__(self, other):\n",
    "        return Fraction.__mul__(self, Fraction(other.den, other.num))\n",
    "    \n",
    "    def __sub__(self, other):\n",
    "        return Fraction.__add__(self, Fraction(-other.num, other.den))\n",
    "    \n",
    "    def __gt__(self, other):\n",
    "        return Fraction.__sub__(self, other).num > 0\n",
    "    \n",
    "    def __lt__(self, other):\n",
    "        return Fraction.__sub__(self, other).num < 0"
   ]
  },
  {
   "cell_type": "code",
   "execution_count": 4,
   "metadata": {},
   "outputs": [
    {
     "name": "stdout",
     "output_type": "stream",
     "text": [
      "7/6\n",
      "False\n",
      "1/3\n",
      "3/4\n",
      "-1/6\n",
      "False\n",
      "True\n"
     ]
    }
   ],
   "source": [
    "x = Fraction(1,2)\n",
    "y = Fraction(2,3)\n",
    "print(x + y)\n",
    "print(x == y)\n",
    "print(x * y)\n",
    "print(x / y)\n",
    "print(x - y)\n",
    "print(x > y)\n",
    "print(x < y)"
   ]
  },
  {
   "cell_type": "markdown",
   "metadata": {},
   "source": [
    "# Logic Gates and Circuits\n",
    "\n",
    "Create a two new gate classes, one called NorGate the other called NandGate. NandGates work like AndGates that have a Not attached to the output. NorGates work lake OrGates that have a Not attached to the output.\n",
    "\n",
    "Create a series of gates that prove the following equality NOT (( A and B) or (C and D)) is that same as NOT( A and B ) and NOT (C and D). Make sure to use some of your new gates in the simulation."
   ]
  },
  {
   "cell_type": "code",
   "execution_count": 5,
   "metadata": {},
   "outputs": [],
   "source": [
    "class LogicGate:\n",
    "\n",
    "    def __init__(self,n):\n",
    "        self.name = n\n",
    "        self.output = None\n",
    "\n",
    "    def getName(self):\n",
    "        return self.name\n",
    "\n",
    "    def getOutput(self):\n",
    "        self.output = self.performGateLogic()\n",
    "        return self.output\n",
    "\n",
    "class BinaryGate(LogicGate):\n",
    "\n",
    "    def __init__(self,n):\n",
    "        LogicGate.__init__(self,n)\n",
    "\n",
    "        self.pinA = None\n",
    "        self.pinB = None\n",
    "\n",
    "    def getPinA(self):\n",
    "        if self.pinA == None:\n",
    "            return int(input(\"Enter Pin A input for gate \"+self.getName()+\"-->\"))\n",
    "        else:\n",
    "            return self.pinA.getFrom().getOutput()\n",
    "\n",
    "    def getPinB(self):\n",
    "        if self.pinB == None:\n",
    "            return int(input(\"Enter Pin B input for gate \"+self.getName()+\"-->\"))\n",
    "        else:\n",
    "            return self.pinB.getFrom().getOutput()\n",
    "\n",
    "    def setNextPin(self,source):\n",
    "        if self.pinA == None:\n",
    "            self.pinA = source\n",
    "        else:\n",
    "            if self.pinB == None:\n",
    "                self.pinB = source\n",
    "            else:\n",
    "                print(\"Cannot Connect: NO EMPTY PINS on this gate\")\n",
    "\n",
    "class AndGate(BinaryGate):\n",
    "\n",
    "    def __init__(self,n):\n",
    "        BinaryGate.__init__(self,n)\n",
    "\n",
    "    def performGateLogic(self):\n",
    "\n",
    "        a = self.getPinA()\n",
    "        b = self.getPinB()\n",
    "        if a==1 and b==1:\n",
    "            return 1\n",
    "        else:\n",
    "            return 0\n",
    "\n",
    "class OrGate(BinaryGate):\n",
    "\n",
    "    def __init__(self,n):\n",
    "        BinaryGate.__init__(self,n)\n",
    "\n",
    "    def performGateLogic(self):\n",
    "\n",
    "        a = self.getPinA()\n",
    "        b = self.getPinB()\n",
    "        if a ==1 or b==1:\n",
    "            return 1\n",
    "        else:\n",
    "            return 0\n",
    "\n",
    "class UnaryGate(LogicGate):\n",
    "\n",
    "    def __init__(self,n):\n",
    "        LogicGate.__init__(self,n)\n",
    "\n",
    "        self.pin = None\n",
    "\n",
    "    def getPin(self):\n",
    "        if self.pin == None:\n",
    "            return int(input(\"Enter Pin input for gate \"+self.getName()+\"-->\"))\n",
    "        else:\n",
    "            return self.pin.getFrom().getOutput()\n",
    "\n",
    "    def setNextPin(self,source):\n",
    "        if self.pin == None:\n",
    "            self.pin = source\n",
    "        else:\n",
    "            print(\"Cannot Connect: NO EMPTY PINS on this gate\")\n",
    "\n",
    "class NotGate(UnaryGate):\n",
    "\n",
    "    def __init__(self,n):\n",
    "        UnaryGate.__init__(self,n)\n",
    "\n",
    "    def performGateLogic(self):\n",
    "        if self.getPin():\n",
    "            return 0\n",
    "        else:\n",
    "            return 1\n",
    "\n",
    "class Connector:\n",
    "\n",
    "    def __init__(self, fgate, tgate):\n",
    "        self.fromgate = fgate\n",
    "        self.togate = tgate\n",
    "\n",
    "        tgate.setNextPin(self)\n",
    "\n",
    "    def getFrom(self):\n",
    "        return self.fromgate\n",
    "\n",
    "    def getTo(self):\n",
    "        return self.togate\n",
    "    \n",
    "class NandGate(BinaryGate):\n",
    "    \n",
    "    def __init__(self,n):\n",
    "        BinaryGate.__init__(self,n)\n",
    "        \n",
    "    def performGateLogic(self):\n",
    "        andgate = AndGate(self.name)\n",
    "        notgate = NotGate(self.name)\n",
    "        Connector(andgate, notgate)\n",
    "        return notgate.performGateLogic()\n",
    "    \n",
    "class NorGate(BinaryGate):\n",
    "    \n",
    "    def __init__(self,n):\n",
    "        BinaryGate.__init__(self,n)\n",
    "        \n",
    "    def performGateLogic(self):\n",
    "        orgate = OrGate(self.name)\n",
    "        notgate = NotGate(self.name)\n",
    "        Connector(orgate, notgate)\n",
    "        return notgate.performGateLogic()\n"
   ]
  },
  {
   "cell_type": "code",
   "execution_count": 6,
   "metadata": {},
   "outputs": [
    {
     "name": "stdout",
     "output_type": "stream",
     "text": [
      "Enter Pin A input for gate G1-->0\n",
      "Enter Pin B input for gate G1-->1\n",
      "Enter Pin A input for gate G2-->1\n",
      "Enter Pin B input for gate G2-->1\n",
      "0\n",
      "Enter Pin A input for gate G1-->0\n",
      "Enter Pin B input for gate G1-->1\n",
      "Enter Pin A input for gate G2-->1\n",
      "Enter Pin B input for gate G2-->1\n",
      "0\n"
     ]
    }
   ],
   "source": [
    "def main():\n",
    "    g1 = AndGate(\"G1\")\n",
    "    g2 = AndGate(\"G2\")\n",
    "    g3 = OrGate(\"G3\")\n",
    "    g4 = NotGate(\"G4\")\n",
    "    c1 = Connector(g1,g3)\n",
    "    c2 = Connector(g2,g3)\n",
    "    c3 = Connector(g3,g4)\n",
    "    print(g4.getOutput())\n",
    "    \n",
    "    g1 = NandGate(\"G1\")\n",
    "    g2 = NandGate(\"G2\")\n",
    "    g3 = AndGate(\"G3\")\n",
    "    c1 = Connector(g1,g3)\n",
    "    c2 = Connector(g2,g3)\n",
    "    print(g3.getOutput())\n",
    "\n",
    "main()"
   ]
  },
  {
   "cell_type": "markdown",
   "metadata": {},
   "source": [
    "# Minimum Number in a List\n",
    "\n",
    "Write two Python functions to find the minimum number in a list. The first function should compare each number to every other number on the list `O(n^2)`. The second function should be linear `O(n)`."
   ]
  },
  {
   "cell_type": "code",
   "execution_count": 7,
   "metadata": {},
   "outputs": [],
   "source": [
    "def minimum_n2(seq):\n",
    "    minimum = seq[0]\n",
    "    for s in seq:\n",
    "        for t in seq:\n",
    "            if s <= t:\n",
    "                pass\n",
    "            else:\n",
    "                break\n",
    "            minimum = s\n",
    "    return minimum\n",
    "\n",
    "def minimum_n(seq):\n",
    "    minimum = seq[0]\n",
    "    for s in seq:\n",
    "        if s <= minimum:\n",
    "            minimum = s\n",
    "    return minimum"
   ]
  },
  {
   "cell_type": "code",
   "execution_count": 8,
   "metadata": {},
   "outputs": [
    {
     "name": "stdout",
     "output_type": "stream",
     "text": [
      "-3\n",
      "-3\n"
     ]
    }
   ],
   "source": [
    "x = [1,2,3,4,5,0,12,-1,-2,-3]\n",
    "print(minimum_n2(x))\n",
    "print(minimum_n(x))"
   ]
  },
  {
   "cell_type": "markdown",
   "metadata": {},
   "source": [
    "# List indexing\n",
    "\n",
    "Devise an experiment to verify that the list index operator is `O(1)`."
   ]
  },
  {
   "cell_type": "code",
   "execution_count": 13,
   "metadata": {},
   "outputs": [
    {
     "name": "stdout",
     "output_type": "stream",
     "text": [
      "10000,     0.001\n",
      "30000,     0.001\n",
      "50000,     0.001\n",
      "70000,     0.001\n",
      "90000,     0.002\n",
      "110000,     0.002\n",
      "130000,     0.002\n",
      "150000,     0.002\n",
      "170000,     0.003\n",
      "190000,     0.001\n",
      "210000,     0.002\n",
      "230000,     0.001\n",
      "250000,     0.001\n",
      "270000,     0.001\n",
      "290000,     0.001\n",
      "310000,     0.001\n",
      "330000,     0.001\n",
      "350000,     0.001\n",
      "370000,     0.001\n",
      "390000,     0.001\n",
      "410000,     0.001\n",
      "430000,     0.001\n",
      "450000,     0.001\n",
      "470000,     0.001\n",
      "490000,     0.002\n",
      "510000,     0.002\n",
      "530000,     0.002\n",
      "550000,     0.001\n",
      "570000,     0.002\n",
      "590000,     0.001\n",
      "610000,     0.001\n",
      "630000,     0.001\n",
      "650000,     0.001\n",
      "670000,     0.001\n",
      "690000,     0.001\n",
      "710000,     0.001\n",
      "730000,     0.001\n",
      "750000,     0.001\n",
      "770000,     0.001\n",
      "790000,     0.001\n",
      "810000,     0.002\n",
      "830000,     0.001\n",
      "850000,     0.002\n",
      "870000,     0.001\n",
      "890000,     0.002\n",
      "910000,     0.001\n",
      "930000,     0.001\n",
      "950000,     0.001\n",
      "970000,     0.001\n",
      "990000,     0.001\n"
     ]
    }
   ],
   "source": [
    "import timeit\n",
    "import random\n",
    "\n",
    "for i in range(10000, 1000001, 20000):\n",
    "    t = timeit.Timer(\"x[random.randrange(%d)]\" %i, \"from __main__ import random, x\")\n",
    "    x = list(range(i))\n",
    "    time = t.timeit(number=1000)\n",
    "    print(\"%d,%10.3f\" % (i, time))"
   ]
  },
  {
   "cell_type": "code",
   "execution_count": null,
   "metadata": {},
   "outputs": [],
   "source": []
  }
 ],
 "metadata": {
  "kernelspec": {
   "display_name": "Python 3",
   "language": "python",
   "name": "python3"
  },
  "language_info": {
   "codemirror_mode": {
    "name": "ipython",
    "version": 3
   },
   "file_extension": ".py",
   "mimetype": "text/x-python",
   "name": "python",
   "nbconvert_exporter": "python",
   "pygments_lexer": "ipython3",
   "version": "3.6.3"
  }
 },
 "nbformat": 4,
 "nbformat_minor": 2
}
