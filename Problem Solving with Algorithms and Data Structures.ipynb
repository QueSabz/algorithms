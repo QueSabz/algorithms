{
 "cells": [
  {
   "cell_type": "markdown",
   "metadata": {},
   "source": [
    "# Infinite Monkey Theorem\n",
    "\n",
    "Here’s a self check that really covers everything so far. You may have heard of the infinite monkey theorem? The theorem states that a monkey hitting keys at random on a typewriter keyboard for an infinite amount of time will almost surely type a given text, such as the complete works of William Shakespeare. Well, suppose we replace a monkey with a Python function. How long do you think it would take for a Python function to generate just one sentence of Shakespeare? The sentence we’ll shoot for is: “methinks it is like a weasel”\n",
    "\n",
    "You’re not going to want to run this one in the browser, so fire up your favorite Python IDE. The way we’ll simulate this is to write a function that generates a string that is 28 characters long by choosing random letters from the 26 letters in the alphabet plus the space. We’ll write another function that will score each generated string by comparing the randomly generated string to the goal.\n",
    "\n",
    "A third function will repeatedly call generate and score, then if 100% of the letters are correct we are done. If the letters are not correct then we will generate a whole new string. To make it easier to follow your program’s progress this third function should print out the best string generated so far and its score every 1,000 tries."
   ]
  },
  {
   "cell_type": "code",
   "execution_count": 1,
   "metadata": {},
   "outputs": [
    {
     "name": "stdout",
     "output_type": "stream",
     "text": [
      "1 qv lriintslryjbzskahwtcbelar\n",
      "5 dckxjhesmptpcs gatfwowllnkyl\n",
      "6 roqlynpuegnamglai vmazwxpsez\n",
      "6 roqlynpuegnamglai vmazwxpsez\n",
      "6 roqlynpuegnamglai vmazwxpsez\n",
      "6 roqlynpuegnamglai vmazwxpsez\n",
      "6 roqlynpuegnamglai vmazwxpsez\n",
      "6 roqlynpuegnamglai vmazwxpsez\n",
      "6 roqlynpuegnamglai vmazwxpsez\n",
      "6 roqlynpuegnamglai vmazwxpsez\n"
     ]
    }
   ],
   "source": [
    "import string\n",
    "import random\n",
    "\n",
    "alphabet = string.ascii_lowercase + ' '\n",
    "\n",
    "def generate(strlength):\n",
    "    return ''.join(random.choices(alphabet, k = strlength))\n",
    "\n",
    "def score(string, answer):\n",
    "    return sum([1 for i in range(len(string)) if string[i] == answer[i]])\n",
    "\n",
    "def trials(n, answer):\n",
    "    best_score = 0\n",
    "    best_string = ''\n",
    "    for i in range(n):\n",
    "        new_string = generate(len(answer))\n",
    "        new_score = score(new_string, answer)\n",
    "        if new_score > best_score:\n",
    "            best_score = new_score\n",
    "            best_string = new_string\n",
    "        if (i % 1000) == 0:\n",
    "            print(best_score, best_string)\n",
    "            \n",
    "trials(10000, \"methinks it is like a weasel\")"
   ]
  },
  {
   "cell_type": "markdown",
   "metadata": {},
   "source": [
    "See if you can improve upon the program in the self check by keeping letters that are correct and only modifying one character in the best string so far. This is a type of algorithm in the class of ‘hill climbing’ algorithms, that is we only keep the result if it is better than the previous one."
   ]
  },
  {
   "cell_type": "code",
   "execution_count": 2,
   "metadata": {},
   "outputs": [
    {
     "data": {
      "text/plain": [
       "('methinks it is like a weasel', 'methinks it is like a weasel', 843)"
      ]
     },
     "execution_count": 2,
     "metadata": {},
     "output_type": "execute_result"
    }
   ],
   "source": [
    "def better_generate(answer):\n",
    "    string = generate(len(answer))\n",
    "    count = 0\n",
    "    for i in range(len(answer)):\n",
    "        while string[i] != answer[i]:\n",
    "            list_string = list(string)\n",
    "            list_string[i] = generate(1)\n",
    "            string = ''.join(list_string)\n",
    "            count += 1\n",
    "    return string, answer, count\n",
    "\n",
    "better_generate(\"methinks it is like a weasel\")"
   ]
  },
  {
   "cell_type": "markdown",
   "metadata": {},
   "source": [
    "# Fractions\n",
    "\n",
    "To make sure you understand how operators are implemented in Python classes, and how to properly write methods, write some methods to implement *, /, and - . Also implement comparison operators > and <"
   ]
  },
  {
   "cell_type": "code",
   "execution_count": 3,
   "metadata": {},
   "outputs": [],
   "source": [
    "def gcd(m,n):\n",
    "    while m%n != 0:\n",
    "        oldm = m\n",
    "        oldn = n\n",
    "\n",
    "        m = oldn\n",
    "        n = oldm%oldn\n",
    "    return n\n",
    "\n",
    "class Fraction:\n",
    "    def __init__(self,top,bottom):\n",
    "        self.num = top\n",
    "        self.den = bottom\n",
    "    \n",
    "    def __str__(self):\n",
    "        return str(self.num) + \"/\" + str(self.den)\n",
    "\n",
    "    def show(self):\n",
    "        print(self.num, \"/\", self.den)\n",
    "        \n",
    "    def getNum(self):\n",
    "        return self.num\n",
    "    \n",
    "    def getDen(self):\n",
    "        return self.den\n",
    "\n",
    "    def __add__(self, other):\n",
    "        newnum = self.num * other.den + self.den * other.num\n",
    "        newden = self.den * other.den\n",
    "        common = gcd(newnum,newden)\n",
    "        return Fraction(newnum // common, newden // common)\n",
    "\n",
    "    def __eq__(self, other):\n",
    "        firstnum = self.num * other.den\n",
    "        secondnum = other.num * self.den\n",
    "        return firstnum == secondnum\n",
    "    \n",
    "    def __mul__(self, other):\n",
    "        newnum = self.num * other.num \n",
    "        newden = self.den * other.den\n",
    "        common = gcd(newnum, newden)\n",
    "        return Fraction(newnum // common, newden // common)\n",
    "    \n",
    "    def __truediv__(self, other):\n",
    "        return Fraction.__mul__(self, Fraction(other.den, other.num))\n",
    "    \n",
    "    def __sub__(self, other):\n",
    "        return Fraction.__add__(self, Fraction(-other.num, other.den))\n",
    "    \n",
    "    def __gt__(self, other):\n",
    "        return Fraction.__sub__(self, other).num > 0\n",
    "    \n",
    "    def __lt__(self, other):\n",
    "        return Fraction.__sub__(self, other).num < 0"
   ]
  },
  {
   "cell_type": "code",
   "execution_count": 4,
   "metadata": {},
   "outputs": [
    {
     "name": "stdout",
     "output_type": "stream",
     "text": [
      "7/6\n",
      "False\n",
      "1/3\n",
      "3/4\n",
      "-1/6\n",
      "False\n",
      "True\n"
     ]
    }
   ],
   "source": [
    "x = Fraction(1,2)\n",
    "y = Fraction(2,3)\n",
    "print(x + y)\n",
    "print(x == y)\n",
    "print(x * y)\n",
    "print(x / y)\n",
    "print(x - y)\n",
    "print(x > y)\n",
    "print(x < y)"
   ]
  },
  {
   "cell_type": "markdown",
   "metadata": {},
   "source": [
    "# Logic Gates and Circuits\n",
    "\n",
    "Create a two new gate classes, one called NorGate the other called NandGate. NandGates work like AndGates that have a Not attached to the output. NorGates work lake OrGates that have a Not attached to the output.\n",
    "\n",
    "Create a series of gates that prove the following equality NOT (( A and B) or (C and D)) is that same as NOT( A and B ) and NOT (C and D). Make sure to use some of your new gates in the simulation."
   ]
  },
  {
   "cell_type": "code",
   "execution_count": 5,
   "metadata": {},
   "outputs": [],
   "source": [
    "class LogicGate:\n",
    "\n",
    "    def __init__(self,n):\n",
    "        self.name = n\n",
    "        self.output = None\n",
    "\n",
    "    def getName(self):\n",
    "        return self.name\n",
    "\n",
    "    def getOutput(self):\n",
    "        self.output = self.performGateLogic()\n",
    "        return self.output\n",
    "\n",
    "class BinaryGate(LogicGate):\n",
    "\n",
    "    def __init__(self,n):\n",
    "        LogicGate.__init__(self,n)\n",
    "\n",
    "        self.pinA = None\n",
    "        self.pinB = None\n",
    "\n",
    "    def getPinA(self):\n",
    "        if self.pinA == None:\n",
    "            return int(input(\"Enter Pin A input for gate \"+self.getName()+\"-->\"))\n",
    "        else:\n",
    "            return self.pinA.getFrom().getOutput()\n",
    "\n",
    "    def getPinB(self):\n",
    "        if self.pinB == None:\n",
    "            return int(input(\"Enter Pin B input for gate \"+self.getName()+\"-->\"))\n",
    "        else:\n",
    "            return self.pinB.getFrom().getOutput()\n",
    "\n",
    "    def setNextPin(self,source):\n",
    "        if self.pinA == None:\n",
    "            self.pinA = source\n",
    "        else:\n",
    "            if self.pinB == None:\n",
    "                self.pinB = source\n",
    "            else:\n",
    "                print(\"Cannot Connect: NO EMPTY PINS on this gate\")\n",
    "\n",
    "class AndGate(BinaryGate):\n",
    "\n",
    "    def __init__(self,n):\n",
    "        BinaryGate.__init__(self,n)\n",
    "\n",
    "    def performGateLogic(self):\n",
    "\n",
    "        a = self.getPinA()\n",
    "        b = self.getPinB()\n",
    "        if a==1 and b==1:\n",
    "            return 1\n",
    "        else:\n",
    "            return 0\n",
    "\n",
    "class OrGate(BinaryGate):\n",
    "\n",
    "    def __init__(self,n):\n",
    "        BinaryGate.__init__(self,n)\n",
    "\n",
    "    def performGateLogic(self):\n",
    "\n",
    "        a = self.getPinA()\n",
    "        b = self.getPinB()\n",
    "        if a ==1 or b==1:\n",
    "            return 1\n",
    "        else:\n",
    "            return 0\n",
    "\n",
    "class UnaryGate(LogicGate):\n",
    "\n",
    "    def __init__(self,n):\n",
    "        LogicGate.__init__(self,n)\n",
    "\n",
    "        self.pin = None\n",
    "\n",
    "    def getPin(self):\n",
    "        if self.pin == None:\n",
    "            return int(input(\"Enter Pin input for gate \"+self.getName()+\"-->\"))\n",
    "        else:\n",
    "            return self.pin.getFrom().getOutput()\n",
    "\n",
    "    def setNextPin(self,source):\n",
    "        if self.pin == None:\n",
    "            self.pin = source\n",
    "        else:\n",
    "            print(\"Cannot Connect: NO EMPTY PINS on this gate\")\n",
    "\n",
    "class NotGate(UnaryGate):\n",
    "\n",
    "    def __init__(self,n):\n",
    "        UnaryGate.__init__(self,n)\n",
    "\n",
    "    def performGateLogic(self):\n",
    "        if self.getPin():\n",
    "            return 0\n",
    "        else:\n",
    "            return 1\n",
    "\n",
    "class Connector:\n",
    "\n",
    "    def __init__(self, fgate, tgate):\n",
    "        self.fromgate = fgate\n",
    "        self.togate = tgate\n",
    "\n",
    "        tgate.setNextPin(self)\n",
    "\n",
    "    def getFrom(self):\n",
    "        return self.fromgate\n",
    "\n",
    "    def getTo(self):\n",
    "        return self.togate\n",
    "    \n",
    "class NandGate(BinaryGate):\n",
    "    \n",
    "    def __init__(self,n):\n",
    "        BinaryGate.__init__(self,n)\n",
    "        \n",
    "    def performGateLogic(self):\n",
    "        andgate = AndGate(self.name)\n",
    "        notgate = NotGate(self.name)\n",
    "        Connector(andgate, notgate)\n",
    "        return notgate.performGateLogic()\n",
    "    \n",
    "class NorGate(BinaryGate):\n",
    "    \n",
    "    def __init__(self,n):\n",
    "        BinaryGate.__init__(self,n)\n",
    "        \n",
    "    def performGateLogic(self):\n",
    "        orgate = OrGate(self.name)\n",
    "        notgate = NotGate(self.name)\n",
    "        Connector(orgate, notgate)\n",
    "        return notgate.performGateLogic()\n"
   ]
  },
  {
   "cell_type": "code",
   "execution_count": 6,
   "metadata": {},
   "outputs": [
    {
     "name": "stdout",
     "output_type": "stream",
     "text": [
      "Enter Pin A input for gate G1-->0\n",
      "Enter Pin B input for gate G1-->1\n",
      "Enter Pin A input for gate G2-->1\n",
      "Enter Pin B input for gate G2-->1\n",
      "0\n",
      "Enter Pin A input for gate G1-->0\n",
      "Enter Pin B input for gate G1-->1\n",
      "Enter Pin A input for gate G2-->1\n",
      "Enter Pin B input for gate G2-->1\n",
      "0\n"
     ]
    }
   ],
   "source": [
    "def main():\n",
    "    g1 = AndGate(\"G1\")\n",
    "    g2 = AndGate(\"G2\")\n",
    "    g3 = OrGate(\"G3\")\n",
    "    g4 = NotGate(\"G4\")\n",
    "    c1 = Connector(g1,g3)\n",
    "    c2 = Connector(g2,g3)\n",
    "    c3 = Connector(g3,g4)\n",
    "    print(g4.getOutput())\n",
    "    \n",
    "    g1 = NandGate(\"G1\")\n",
    "    g2 = NandGate(\"G2\")\n",
    "    g3 = AndGate(\"G3\")\n",
    "    c1 = Connector(g1,g3)\n",
    "    c2 = Connector(g2,g3)\n",
    "    print(g3.getOutput())\n",
    "\n",
    "main()"
   ]
  },
  {
   "cell_type": "markdown",
   "metadata": {},
   "source": [
    "# Minimum Number in a List\n",
    "\n",
    "Write two Python functions to find the minimum number in a list. The first function should compare each number to every other number on the list `O(n^2)`. The second function should be linear `O(n)`."
   ]
  },
  {
   "cell_type": "code",
   "execution_count": 7,
   "metadata": {},
   "outputs": [],
   "source": [
    "def minimum_n2(seq):\n",
    "    minimum = seq[0]\n",
    "    for s in seq:\n",
    "        for t in seq:\n",
    "            if s <= t:\n",
    "                pass\n",
    "            else:\n",
    "                break\n",
    "            minimum = s\n",
    "    return minimum\n",
    "\n",
    "def minimum_n(seq):\n",
    "    minimum = seq[0]\n",
    "    for s in seq:\n",
    "        if s <= minimum:\n",
    "            minimum = s\n",
    "    return minimum"
   ]
  },
  {
   "cell_type": "code",
   "execution_count": 8,
   "metadata": {},
   "outputs": [
    {
     "name": "stdout",
     "output_type": "stream",
     "text": [
      "-3\n",
      "-3\n"
     ]
    }
   ],
   "source": [
    "x = [1,2,3,4,5,0,12,-1,-2,-3]\n",
    "print(minimum_n2(x))\n",
    "print(minimum_n(x))"
   ]
  },
  {
   "cell_type": "markdown",
   "metadata": {},
   "source": [
    "# List Indexing\n",
    "\n",
    "Devise an experiment to verify that the list index operator is `O(1)`."
   ]
  },
  {
   "cell_type": "code",
   "execution_count": 9,
   "metadata": {},
   "outputs": [
    {
     "data": {
      "image/png": "[encoded data removed]",
      "text/plain": [
       "<matplotlib.figure.Figure at 0x10f16bac8>"
      ]
     },
     "metadata": {},
     "output_type": "display_data"
    }
   ],
   "source": [
    "import timeit\n",
    "import random\n",
    "import matplotlib.pyplot as plt\n",
    "import numpy as np\n",
    "\n",
    "y = []\n",
    "x = range(10000, 1000001, 20000)\n",
    "for xx in x:\n",
    "    seq = list(range(xx))\n",
    "    t = timeit.Timer(\"seq[random.randrange(%d)]\" %xx, \"from __main__ import random, seq\")\n",
    "    time = t.timeit(number=1000)\n",
    "    y.append(time)\n",
    "\n",
    "plt.scatter(x, y)\n",
    "plt.show()"
   ]
  },
  {
   "cell_type": "markdown",
   "metadata": {},
   "source": [
    "# Stacks and String Reversal\n",
    "\n",
    "Write a function `revstring(mystr)` that uses a stack to reverse the characters in a string."
   ]
  },
  {
   "cell_type": "code",
   "execution_count": 10,
   "metadata": {},
   "outputs": [
    {
     "data": {
      "text/plain": [
       "'elppa'"
      ]
     },
     "execution_count": 10,
     "metadata": {},
     "output_type": "execute_result"
    }
   ],
   "source": [
    "class Stack:\n",
    "    def __init__(self):\n",
    "        self.items = []\n",
    "    \n",
    "    def isEmpty(self):\n",
    "        return self.items == []\n",
    "\n",
    "    def push(self, item):\n",
    "        self.items.append(item)\n",
    "\n",
    "    def pop(self):\n",
    "        return self.items.pop()\n",
    "\n",
    "    def peek(self):\n",
    "        return self.items[len(self.items)-1]\n",
    "\n",
    "    def size(self):\n",
    "        return len(self.items)\n",
    "    \n",
    "def revstring(mystr):\n",
    "    m = Stack()\n",
    "    revstr = ''\n",
    "    for s in mystr:\n",
    "        m.push(s)\n",
    "    while not m.isEmpty():\n",
    "        revstr += m.pop()\n",
    "    return revstr\n",
    "\n",
    "revstring('apple')"
   ]
  },
  {
   "cell_type": "markdown",
   "metadata": {},
   "source": [
    "# General Infix-to-Postfix Conversion¶\n",
    "\n",
    "Modify the `infixToPostfix` function so that it can convert the following expression: `5 * 3 ** (4 - 2)`"
   ]
  },
  {
   "cell_type": "code",
   "execution_count": 11,
   "metadata": {},
   "outputs": [
    {
     "name": "stdout",
     "output_type": "stream",
     "text": [
      "A B * C D * +\n",
      "A B + C * D E - F G + * -\n",
      "5 3 4 2 - ** *\n"
     ]
    }
   ],
   "source": [
    "def infixToPostfix(infixexpr):\n",
    "    prec = {}\n",
    "    prec[\"**\"] = 4\n",
    "    prec[\"*\"] = 3\n",
    "    prec[\"/\"] = 3\n",
    "    prec[\"+\"] = 2\n",
    "    prec[\"-\"] = 2\n",
    "    prec[\"(\"] = 1\n",
    "    opStack = Stack()\n",
    "    postfixList = []\n",
    "    tokenList = infixexpr.split()\n",
    "\n",
    "    for token in tokenList:\n",
    "        if token in \"ABCDEFGHIJKLMNOPQRSTUVWXYZ\" or token in \"0123456789\":\n",
    "            postfixList.append(token)\n",
    "        elif token == '(':\n",
    "            opStack.push(token)\n",
    "        elif token == ')':\n",
    "            topToken = opStack.pop()\n",
    "            while topToken != '(':\n",
    "                postfixList.append(topToken)\n",
    "                topToken = opStack.pop()\n",
    "        else:\n",
    "            while (not opStack.isEmpty()) and (prec[opStack.peek()] >= prec[token]):\n",
    "                postfixList.append(opStack.pop())\n",
    "            opStack.push(token)\n",
    "\n",
    "    while not opStack.isEmpty():\n",
    "        postfixList.append(opStack.pop())\n",
    "    return \" \".join(postfixList)\n",
    "\n",
    "print(infixToPostfix(\"A * B + C * D\"))\n",
    "print(infixToPostfix(\"( A + B ) * C - ( D - E ) * ( F + G )\"))\n",
    "print(infixToPostfix(\"5 * 3 ** ( 4 - 2 )\"))"
   ]
  },
  {
   "cell_type": "markdown",
   "metadata": {},
   "source": [
    "# Printer Queue\n",
    "\n",
    "How would you modify the printer simulation to reflect a larger number of students? Suppose that the number of students was doubled. You make need to make some reasonable assumptions about how this simulation was put together but what would you change? Modify the code. \n",
    "\n",
    "Also, suppose that the length of the average print task was cut in half. Change the code to reflect that change. Finally, how would you parametertize the number of students? Rather than changing the code we would like to make the number of students a parameter of the simulation."
   ]
  },
  {
   "cell_type": "code",
   "execution_count": 41,
   "metadata": {},
   "outputs": [
    {
     "name": "stdout",
     "output_type": "stream",
     "text": [
      "Average Wait   7.72 secs   0 tasks remaining.\n",
      "Average Wait  14.12 secs   0 tasks remaining.\n",
      "Average Wait  23.46 secs   0 tasks remaining.\n",
      "Average Wait   0.46 secs   0 tasks remaining.\n",
      "Average Wait  29.00 secs   0 tasks remaining.\n",
      "Average Wait 182.70 secs   0 tasks remaining.\n",
      "Average Wait  10.30 secs   0 tasks remaining.\n",
      "Average Wait  50.58 secs   0 tasks remaining.\n",
      "Average Wait  43.20 secs   0 tasks remaining.\n",
      "Average Wait  19.22 secs   0 tasks remaining.\n"
     ]
    }
   ],
   "source": [
    "import random\n",
    "\n",
    "class Queue:\n",
    "    def __init__(self):\n",
    "        self.items = []\n",
    "\n",
    "    def isEmpty(self):\n",
    "        return self.items == []\n",
    "\n",
    "    def enqueue(self, item):\n",
    "        self.items.insert(0,item)\n",
    "\n",
    "    def dequeue(self):\n",
    "        return self.items.pop()\n",
    "\n",
    "    def size(self):\n",
    "        return len(self.items)\n",
    "    \n",
    "class Printer:\n",
    "    def __init__(self, ppm):\n",
    "        self.pagerate = ppm\n",
    "        self.currentTask = None\n",
    "        self.timeRemaining = 0\n",
    "\n",
    "    def tick(self):\n",
    "        if self.currentTask != None:\n",
    "            self.timeRemaining = self.timeRemaining - 1\n",
    "            if self.timeRemaining <= 0:\n",
    "                self.currentTask = None\n",
    "\n",
    "    def busy(self):\n",
    "        if self.currentTask != None:\n",
    "            return True\n",
    "        else:\n",
    "            return False\n",
    "\n",
    "    def startNext(self, newtask):\n",
    "        self.currentTask = newtask\n",
    "        self.timeRemaining = newtask.getPages() * 60 / self.pagerate\n",
    "        \n",
    "class Task:\n",
    "    def __init__(self, time, averagePageLength):\n",
    "        self.timestamp = time\n",
    "        self.pages = random.randrange(1, averagePageLength + 1)\n",
    "\n",
    "    def getStamp(self):\n",
    "        return self.timestamp\n",
    "\n",
    "    def getPages(self):\n",
    "        return self.pages\n",
    "\n",
    "    def waitTime(self, currenttime):\n",
    "        return currenttime - self.timestamp\n",
    "    \n",
    "def simulation(numSeconds, pagesPerMinute, students, averagePageLength):\n",
    "\n",
    "    labprinter = Printer(pagesPerMinute)\n",
    "    printQueue = Queue()\n",
    "    waitingtimes = []\n",
    "\n",
    "    for currentSecond in range(numSeconds):\n",
    "        if newPrintTask(students):\n",
    "            task = Task(currentSecond, averagePageLength)\n",
    "            printQueue.enqueue(task)\n",
    "\n",
    "        if (not labprinter.busy()) and (not printQueue.isEmpty()):\n",
    "            nexttask = printQueue.dequeue()\n",
    "            waitingtimes.append(nexttask.waitTime(currentSecond))\n",
    "            labprinter.startNext(nexttask)\n",
    "      \n",
    "        labprinter.tick()\n",
    "\n",
    "    averageWait = sum(waitingtimes) / len(waitingtimes)\n",
    "    print(\"Average Wait %6.2f secs %3d tasks remaining.\"%(averageWait, printQueue.size()))\n",
    "\n",
    "\n",
    "def newPrintTask(students):\n",
    "    tasksPerStudent = 2\n",
    "    secondsPerTask = 3600 / (students * tasksPerStudent)\n",
    "    num = random.randrange(1, 180 + 1)\n",
    "    if num == 180:\n",
    "        return True\n",
    "    else:\n",
    "        return False\n",
    "\n",
    "for i in range(10):\n",
    "    simulation(3600, 5, 10, 10)"
   ]
  },
  {
   "cell_type": "code",
   "execution_count": null,
   "metadata": {},
   "outputs": [],
   "source": []
  }
 ],
 "metadata": {
  "kernelspec": {
   "display_name": "Python 3",
   "language": "python",
   "name": "python3"
  },
  "language_info": {
   "codemirror_mode": {
    "name": "ipython",
    "version": 3
   },
   "file_extension": ".py",
   "mimetype": "text/x-python",
   "name": "python",
   "nbconvert_exporter": "python",
   "pygments_lexer": "ipython3",
   "version": "3.6.3"
  }
 },
 "nbformat": 4,
 "nbformat_minor": 2
}
