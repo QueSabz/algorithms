{
 "cells": [
  {
   "cell_type": "markdown",
   "metadata": {},
   "source": [
    "# Infinite Monkey Theorem\n",
    "\n",
    "Here’s a self check that really covers everything so far. You may have heard of the infinite monkey theorem? The theorem states that a monkey hitting keys at random on a typewriter keyboard for an infinite amount of time will almost surely type a given text, such as the complete works of William Shakespeare. Well, suppose we replace a monkey with a Python function. How long do you think it would take for a Python function to generate just one sentence of Shakespeare? The sentence we’ll shoot for is: “methinks it is like a weasel”\n",
    "\n",
    "You’re not going to want to run this one in the browser, so fire up your favorite Python IDE. The way we’ll simulate this is to write a function that generates a string that is 28 characters long by choosing random letters from the 26 letters in the alphabet plus the space. We’ll write another function that will score each generated string by comparing the randomly generated string to the goal.\n",
    "\n",
    "A third function will repeatedly call generate and score, then if 100% of the letters are correct we are done. If the letters are not correct then we will generate a whole new string. To make it easier to follow your program’s progress this third function should print out the best string generated so far and its score every 1,000 tries."
   ]
  },
  {
   "cell_type": "code",
   "execution_count": 1,
   "metadata": {},
   "outputs": [
    {
     "name": "stdout",
     "output_type": "stream",
     "text": [
      "3 aelkinx juhdrgxtfdklwzybxyzu\n",
      "6 bzv djkasat wycdhkexwqfwqcey\n",
      "6 bzv djkasat wycdhkexwqfwqcey\n",
      "6 bzv djkasat wycdhkexwqfwqcey\n",
      "6 bzv djkasat wycdhkexwqfwqcey\n",
      "6 bzv djkasat wycdhkexwqfwqcey\n",
      "6 bzv djkasat wycdhkexwqfwqcey\n",
      "6 bzv djkasat wycdhkexwqfwqcey\n",
      "6 bzv djkasat wycdhkexwqfwqcey\n",
      "6 bzv djkasat wycdhkexwqfwqcey\n"
     ]
    }
   ],
   "source": [
    "import string\n",
    "import random\n",
    "\n",
    "alphabet = string.ascii_lowercase + ' '\n",
    "\n",
    "def generate(strlength):\n",
    "    return ''.join(random.choices(alphabet, k = strlength))\n",
    "\n",
    "def score(string, answer):\n",
    "    return sum([1 for i in range(len(string)) if string[i] == answer[i]])\n",
    "\n",
    "def trials(n, answer):\n",
    "    best_score = 0\n",
    "    best_string = ''\n",
    "    for i in range(n):\n",
    "        new_string = generate(len(answer))\n",
    "        new_score = score(new_string, answer)\n",
    "        if new_score > best_score:\n",
    "            best_score = new_score\n",
    "            best_string = new_string\n",
    "        if (i % 1000) == 0:\n",
    "            print(best_score, best_string)\n",
    "            \n",
    "trials(10000, \"methinks it is like a weasel\")"
   ]
  },
  {
   "cell_type": "markdown",
   "metadata": {},
   "source": [
    "See if you can improve upon the program in the self check by keeping letters that are correct and only modifying one character in the best string so far. This is a type of algorithm in the class of ‘hill climbing’ algorithms, that is we only keep the result if it is better than the previous one."
   ]
  },
  {
   "cell_type": "code",
   "execution_count": 2,
   "metadata": {},
   "outputs": [
    {
     "data": {
      "text/plain": [
       "('methinks it is like a weasel', 'methinks it is like a weasel', 565)"
      ]
     },
     "execution_count": 2,
     "metadata": {},
     "output_type": "execute_result"
    }
   ],
   "source": [
    "def better_generate(answer):\n",
    "    string = generate(len(answer))\n",
    "    count = 0\n",
    "    for i in range(len(answer)):\n",
    "        while string[i] != answer[i]:\n",
    "            list_string = list(string)\n",
    "            list_string[i] = generate(1)\n",
    "            string = ''.join(list_string)\n",
    "            count += 1\n",
    "    return string, answer, count\n",
    "\n",
    "better_generate(\"methinks it is like a weasel\")"
   ]
  },
  {
   "cell_type": "code",
   "execution_count": null,
   "metadata": {},
   "outputs": [],
   "source": []
  }
 ],
 "metadata": {
  "kernelspec": {
   "display_name": "Python 3",
   "language": "python",
   "name": "python3"
  },
  "language_info": {
   "codemirror_mode": {
    "name": "ipython",
    "version": 3
   },
   "file_extension": ".py",
   "mimetype": "text/x-python",
   "name": "python",
   "nbconvert_exporter": "python",
   "pygments_lexer": "ipython3",
   "version": "3.6.3"
  }
 },
 "nbformat": 4,
 "nbformat_minor": 2
}
